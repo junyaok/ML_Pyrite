{
 "cells": [
  {
   "cell_type": "markdown",
   "metadata": {},
   "source": [
    "### Data Preperation\n",
    "Split the training dataset (training.csv) into training and testing datasets. 240 pyrite analyses from each label (sedimentary (0), synsedimentary hydrothermal (1), and post-sedimentary hydrothermal(2)) are randomly selected to form a balanced training dataset. The rest analyses form the testing dataset. Another individual dataset (Blind_Test.csv) is used for blind testing."
   ]
  },
  {
   "cell_type": "code",
   "execution_count": 1,
   "metadata": {},
   "outputs": [],
   "source": [
    "import pandas as pd\n",
    "import matplotlib.pyplot as plt\n",
    "import matplotlib\n",
    "import numpy as np\n",
    "from sklearn.model_selection import train_test_split\n",
    "from sklearn.preprocessing import StandardScaler\n",
    "from sklearn.ensemble import RandomForestClassifier\n",
    "from sklearn.model_selection import GridSearchCV\n",
    "from sklearn.metrics import classification_report\n",
    "from sklearn.metrics import confusion_matrix\n",
    "from sklearn.metrics import ConfusionMatrixDisplay\n",
    "import xgboost as xgb\n",
    "\n",
    "#make sure matplotlib is exporting editable text\n",
    "matplotlib.rcParams['pdf.fonttype'] = 42"
   ]
  },
  {
   "cell_type": "code",
   "execution_count": 2,
   "metadata": {},
   "outputs": [],
   "source": [
    "#read data as dataframes\n",
    "fp1 = '/Users/junyaokang/Desktop/TE/ML_Pyrite/data/Training.csv'\n",
    "fp2 = '/Users/junyaokang/Desktop/TE/ML_Pyrite/data/Blind_Test.csv'\n",
    "fp3 = '/Users/junyaokang/Desktop/TE/ML_Pyrite/data/Xiao_Cui.csv'\n",
    "Data = pd.read_csv(fp1)\n",
    "Blind_Test = pd.read_csv(fp2)\n",
    "XC = pd.read_csv(fp3)"
   ]
  },
  {
   "cell_type": "code",
   "execution_count": 3,
   "metadata": {},
   "outputs": [],
   "source": [
    "#split the 'sedimentary' data into train set and test set\n",
    "#get the Sedimentary data\n",
    "Sedimentary_data = Data[Data['Deposit style']=='Sedimentary'].copy()\n",
    "\n",
    "#get the deposit names\n",
    "Sedimentary_deposit = np.unique(Sedimentary_data['Deposit'])\n",
    "\n",
    "#Create two empty dataframe to store train and test data\n",
    "Test_data = pd.DataFrame()\n",
    "Train_data = pd.DataFrame()\n",
    "\n",
    "#For each deposit, randomly select 15 data as train data\n",
    "for i in Sedimentary_deposit:\n",
    "    Train, Test = train_test_split(Data[Data['Deposit']==i], train_size=15, random_state=0)\n",
    "    Train_data = pd.concat([Train_data, Train])\n",
    "    Test_data = pd.concat([Test_data, Test])"
   ]
  },
  {
   "cell_type": "code",
   "execution_count": 4,
   "metadata": {},
   "outputs": [],
   "source": [
    "#split the hydrothemal breccia data into train set and test set\n",
    "Train, Test = train_test_split(Data[Data['Deposit']=='hydrothermal breccia Menninnie Dam'], train_size=30, random_state=0)\n",
    "Train_data = pd.concat([Train_data, Train])\n",
    "Test_data = pd.concat([Test_data, Test])\n",
    "\n",
    "Train, Test = train_test_split(Data[Data['Deposit']=='hydrothermal breccia Telephone Dam'], train_size=30, random_state=0)\n",
    "Train_data = pd.concat([Train_data, Train])\n",
    "Test_data = pd.concat([Test_data, Test])"
   ]
  },
  {
   "cell_type": "code",
   "execution_count": 5,
   "metadata": {},
   "outputs": [],
   "source": [
    "#split the IOCG data into train set and test set\n",
    "Train, Test = train_test_split(Data[Data['Deposit']=='IOCG Manxman'], train_size=30, random_state=0)\n",
    "Train_data = pd.concat([Train_data, Train])\n",
    "Test_data = pd.concat([Test_data, Test])\n",
    "\n",
    "Train, Test = train_test_split(Data[Data['Deposit']=='IOCG Punt Hill'], train_size=30, random_state=0)\n",
    "Train_data = pd.concat([Train_data, Train])\n",
    "Test_data = pd.concat([Test_data, Test])"
   ]
  },
  {
   "cell_type": "code",
   "execution_count": 6,
   "metadata": {},
   "outputs": [],
   "source": [
    "#split the 'Orogenic Au' data into train set and test set\n",
    "#get the Orogenic Au data\n",
    "Au_data = Data[Data['Deposit style']=='Orogenic Au'].copy()\n",
    "\n",
    "#get the deposit names\n",
    "Au_deposit = np.unique(Au_data['Deposit'])\n",
    "\n",
    "#For each deposit, randomly select 4 data as train data\n",
    "for i in Au_deposit:\n",
    "    Train, Test = train_test_split(Data[Data['Deposit']==i], train_size=4, random_state=0)\n",
    "    Train_data = pd.concat([Train_data, Train])\n",
    "    Test_data = pd.concat([Test_data, Test])"
   ]
  },
  {
   "cell_type": "code",
   "execution_count": 7,
   "metadata": {},
   "outputs": [],
   "source": [
    "#split the porphyry data into train set and test set\n",
    "Train, Test = train_test_split(Data[Data['Deposit']=='porphyry Chalkidiki'], train_size=30, random_state=0)\n",
    "Train_data = pd.concat([Train_data, Train])\n",
    "Test_data = pd.concat([Test_data, Test])\n",
    "\n",
    "Train, Test = train_test_split(Data[Data['Deposit']=='porphyry Cadia'], train_size=30, random_state=0)\n",
    "Train_data = pd.concat([Train_data, Train])\n",
    "Test_data = pd.concat([Test_data, Test])"
   ]
  },
  {
   "cell_type": "code",
   "execution_count": 8,
   "metadata": {},
   "outputs": [],
   "source": [
    "#split the 'SEDEX' data into train set and test set\n",
    "#get the SEDEX data\n",
    "SEDEX_data = Data[Data['Deposit style']=='SEDEX'].copy()\n",
    "\n",
    "#get the deposit names\n",
    "SEDEX_deposit = np.unique(SEDEX_data['Deposit'])\n",
    "\n",
    "#For each deposit, randomly select 24 data as train data\n",
    "for i in SEDEX_deposit:\n",
    "    Train, Test = train_test_split(Data[Data['Deposit']==i], train_size=24, random_state=0)\n",
    "    Train_data = pd.concat([Train_data, Train])\n",
    "    Test_data = pd.concat([Test_data, Test])"
   ]
  },
  {
   "cell_type": "code",
   "execution_count": 9,
   "metadata": {},
   "outputs": [],
   "source": [
    "#split the VHMS data into train set and test set\n",
    "Train, Test = train_test_split(Data[Data['Deposit']=='VHMS Kutlular'], train_size=15, random_state=0)\n",
    "Train_data = pd.concat([Train_data, Train])\n",
    "Test_data = pd.concat([Test_data, Test])\n",
    "\n",
    "Train, Test = train_test_split(Data[Data['Deposit']=='VHMS Yaman-Kasypyrite'], train_size=46, random_state=0)\n",
    "Train_data = pd.concat([Train_data, Train])\n",
    "Test_data = pd.concat([Test_data, Test], ignore_index=True)\n",
    "\n",
    "Train_data = pd.concat([Train_data, Data[Data['Deposit']=='VHMS Golden Grove']])\n",
    "Train_data = pd.concat([Train_data, Data[Data['Deposit']=='VHMS Jaguar Mine']])\n",
    "Train_data = pd.concat([Train_data, Data[Data['Deposit']=='VHMS Kyzilkaya']])\n",
    "Train_data = pd.concat([Train_data, Data[Data['Deposit']=='VHMS Lahanos']])\n",
    "Train_data = pd.concat([Train_data, Data[Data['Deposit']=='VHMS Scuddles']], ignore_index=True)\n"
   ]
  },
  {
   "cell_type": "code",
   "execution_count": 10,
   "metadata": {},
   "outputs": [],
   "source": [
    "#get data and labels\n",
    "X_train = Train_data.iloc[:, 3:].copy()\n",
    "y_train = Train_data.iloc[:, 2].copy()\n",
    "X_test = Test_data.iloc[:, 3:].copy()\n",
    "y_test = Test_data.iloc[:, 2].copy()\n",
    "X_blind_test = Blind_Test.iloc[:, 3:].copy()\n",
    "y_blind_test = Blind_Test.iloc[:, 2].copy()\n",
    "XC_data = XC.iloc[:, 2:].copy()\n",
    "\n",
    "#store the feature names\n",
    "feature_names = list(X_train.columns)"
   ]
  },
  {
   "cell_type": "code",
   "execution_count": 11,
   "metadata": {},
   "outputs": [],
   "source": [
    "#standardize the data\n",
    "scaler = StandardScaler()\n",
    "#use X_train to compute the mean and std as the scaler\n",
    "scaler.fit(X_train)\n",
    "\n",
    "#standardize all the data, and then add column names to features\n",
    "X_train = pd.DataFrame(scaler.transform(X_train), columns = feature_names)\n",
    "X_test = pd.DataFrame(scaler.transform(X_test), columns = feature_names)\n",
    "X_blind_test = pd.DataFrame(scaler.transform(X_blind_test), columns = feature_names)\n",
    "XC_data = pd.DataFrame(scaler.transform(XC_data), columns = feature_names)"
   ]
  },
  {
   "cell_type": "markdown",
   "metadata": {},
   "source": [
    "### Random Forest"
   ]
  },
  {
   "cell_type": "code",
   "execution_count": null,
   "metadata": {},
   "outputs": [],
   "source": [
    "#find the best parameters\n",
    "params = {'n_estimators': list(range(100,1100,100)),\n",
    "         'min_samples_leaf': list(range(1,10,1)),\n",
    "         'criterion': ['gini','entropy']}\n",
    "\n",
    "gs_rf = GridSearchCV(RandomForestClassifier(random_state = 0), param_grid = params, scoring = 'f1_macro')\n",
    "\n",
    "gs_rf.fit(X_train, y_train)\n",
    "\n",
    "gs_rf.best_params_"
   ]
  },
  {
   "cell_type": "code",
   "execution_count": 12,
   "metadata": {},
   "outputs": [
    {
     "data": {
      "text/html": [
       "<style>#sk-container-id-1 {color: black;background-color: white;}#sk-container-id-1 pre{padding: 0;}#sk-container-id-1 div.sk-toggleable {background-color: white;}#sk-container-id-1 label.sk-toggleable__label {cursor: pointer;display: block;width: 100%;margin-bottom: 0;padding: 0.3em;box-sizing: border-box;text-align: center;}#sk-container-id-1 label.sk-toggleable__label-arrow:before {content: \"▸\";float: left;margin-right: 0.25em;color: #696969;}#sk-container-id-1 label.sk-toggleable__label-arrow:hover:before {color: black;}#sk-container-id-1 div.sk-estimator:hover label.sk-toggleable__label-arrow:before {color: black;}#sk-container-id-1 div.sk-toggleable__content {max-height: 0;max-width: 0;overflow: hidden;text-align: left;background-color: #f0f8ff;}#sk-container-id-1 div.sk-toggleable__content pre {margin: 0.2em;color: black;border-radius: 0.25em;background-color: #f0f8ff;}#sk-container-id-1 input.sk-toggleable__control:checked~div.sk-toggleable__content {max-height: 200px;max-width: 100%;overflow: auto;}#sk-container-id-1 input.sk-toggleable__control:checked~label.sk-toggleable__label-arrow:before {content: \"▾\";}#sk-container-id-1 div.sk-estimator input.sk-toggleable__control:checked~label.sk-toggleable__label {background-color: #d4ebff;}#sk-container-id-1 div.sk-label input.sk-toggleable__control:checked~label.sk-toggleable__label {background-color: #d4ebff;}#sk-container-id-1 input.sk-hidden--visually {border: 0;clip: rect(1px 1px 1px 1px);clip: rect(1px, 1px, 1px, 1px);height: 1px;margin: -1px;overflow: hidden;padding: 0;position: absolute;width: 1px;}#sk-container-id-1 div.sk-estimator {font-family: monospace;background-color: #f0f8ff;border: 1px dotted black;border-radius: 0.25em;box-sizing: border-box;margin-bottom: 0.5em;}#sk-container-id-1 div.sk-estimator:hover {background-color: #d4ebff;}#sk-container-id-1 div.sk-parallel-item::after {content: \"\";width: 100%;border-bottom: 1px solid gray;flex-grow: 1;}#sk-container-id-1 div.sk-label:hover label.sk-toggleable__label {background-color: #d4ebff;}#sk-container-id-1 div.sk-serial::before {content: \"\";position: absolute;border-left: 1px solid gray;box-sizing: border-box;top: 0;bottom: 0;left: 50%;z-index: 0;}#sk-container-id-1 div.sk-serial {display: flex;flex-direction: column;align-items: center;background-color: white;padding-right: 0.2em;padding-left: 0.2em;position: relative;}#sk-container-id-1 div.sk-item {position: relative;z-index: 1;}#sk-container-id-1 div.sk-parallel {display: flex;align-items: stretch;justify-content: center;background-color: white;position: relative;}#sk-container-id-1 div.sk-item::before, #sk-container-id-1 div.sk-parallel-item::before {content: \"\";position: absolute;border-left: 1px solid gray;box-sizing: border-box;top: 0;bottom: 0;left: 50%;z-index: -1;}#sk-container-id-1 div.sk-parallel-item {display: flex;flex-direction: column;z-index: 1;position: relative;background-color: white;}#sk-container-id-1 div.sk-parallel-item:first-child::after {align-self: flex-end;width: 50%;}#sk-container-id-1 div.sk-parallel-item:last-child::after {align-self: flex-start;width: 50%;}#sk-container-id-1 div.sk-parallel-item:only-child::after {width: 0;}#sk-container-id-1 div.sk-dashed-wrapped {border: 1px dashed gray;margin: 0 0.4em 0.5em 0.4em;box-sizing: border-box;padding-bottom: 0.4em;background-color: white;}#sk-container-id-1 div.sk-label label {font-family: monospace;font-weight: bold;display: inline-block;line-height: 1.2em;}#sk-container-id-1 div.sk-label-container {text-align: center;}#sk-container-id-1 div.sk-container {/* jupyter's `normalize.less` sets `[hidden] { display: none; }` but bootstrap.min.css set `[hidden] { display: none !important; }` so we also need the `!important` here to be able to override the default hidden behavior on the sphinx rendered scikit-learn.org. See: https://github.com/scikit-learn/scikit-learn/issues/21755 */display: inline-block !important;position: relative;}#sk-container-id-1 div.sk-text-repr-fallback {display: none;}</style><div id=\"sk-container-id-1\" class=\"sk-top-container\"><div class=\"sk-text-repr-fallback\"><pre>RandomForestClassifier(min_samples_leaf=2, n_estimators=300, oob_score=True,\n",
       "                       random_state=0)</pre><b>In a Jupyter environment, please rerun this cell to show the HTML representation or trust the notebook. <br />On GitHub, the HTML representation is unable to render, please try loading this page with nbviewer.org.</b></div><div class=\"sk-container\" hidden><div class=\"sk-item\"><div class=\"sk-estimator sk-toggleable\"><input class=\"sk-toggleable__control sk-hidden--visually\" id=\"sk-estimator-id-1\" type=\"checkbox\" checked><label for=\"sk-estimator-id-1\" class=\"sk-toggleable__label sk-toggleable__label-arrow\">RandomForestClassifier</label><div class=\"sk-toggleable__content\"><pre>RandomForestClassifier(min_samples_leaf=2, n_estimators=300, oob_score=True,\n",
       "                       random_state=0)</pre></div></div></div></div></div>"
      ],
      "text/plain": [
       "RandomForestClassifier(min_samples_leaf=2, n_estimators=300, oob_score=True,\n",
       "                       random_state=0)"
      ]
     },
     "execution_count": 12,
     "metadata": {},
     "output_type": "execute_result"
    }
   ],
   "source": [
    "#train the random forest\n",
    "clf = RandomForestClassifier(criterion = 'gini', n_estimators = 300, min_samples_leaf = 2, oob_score = True, random_state = 0)\n",
    "clf.fit(X_train, y_train)"
   ]
  },
  {
   "cell_type": "code",
   "execution_count": 13,
   "metadata": {},
   "outputs": [],
   "source": [
    "#Using the classifier to predict the test dataset\n",
    "y_pred = clf.predict(X_test)"
   ]
  },
  {
   "cell_type": "code",
   "execution_count": 14,
   "metadata": {},
   "outputs": [
    {
     "name": "stdout",
     "output_type": "stream",
     "text": [
      "              precision    recall  f1-score   support\n",
      "\n",
      "           0       0.91      0.94      0.93       688\n",
      "           1       0.92      0.92      0.92       993\n",
      "           2       0.90      0.87      0.89       806\n",
      "\n",
      "    accuracy                           0.91      2487\n",
      "   macro avg       0.91      0.91      0.91      2487\n",
      "weighted avg       0.91      0.91      0.91      2487\n",
      "\n"
     ]
    }
   ],
   "source": [
    "#classification report for the test dataset\n",
    "print(classification_report(y_test, y_pred))"
   ]
  },
  {
   "cell_type": "code",
   "execution_count": 15,
   "metadata": {},
   "outputs": [
    {
     "data": {
      "image/png": "[encoded data removed]",
      "text/plain": [
       "<Figure size 432x288 with 2 Axes>"
      ]
     },
     "metadata": {
      "needs_background": "light"
     },
     "output_type": "display_data"
    }
   ],
   "source": [
    "#confusion matrix for the test dataset\n",
    "cm = confusion_matrix(y_test, y_pred)\n",
    "cm_display = ConfusionMatrixDisplay(cm).plot(cmap='YlGnBu')\n",
    "plt.savefig(\"ConfusionMatrix_RD_Test.pdf\", dpi=150)"
   ]
  },
  {
   "cell_type": "code",
   "execution_count": 16,
   "metadata": {},
   "outputs": [
    {
     "data": {
      "image/png": "[encoded data removed]",
      "text/plain": [
       "<Figure size 432x288 with 1 Axes>"
      ]
     },
     "metadata": {
      "needs_background": "light"
     },
     "output_type": "display_data"
    }
   ],
   "source": [
    "#calculate the importances (mean decrease in impurity) of different features and the satndard deviation\n",
    "importances = clf.feature_importances_\n",
    "\n",
    "#calculate the satndard deviation\n",
    "std = np.std([tree.feature_importances_ for tree in clf.estimators_], axis=0)\n",
    "\n",
    "clf_importances = pd.Series(importances, index = clf.feature_names_in_)\n",
    "\n",
    "fig, ax = plt.subplots()\n",
    "clf_importances.plot.bar(yerr=std, ax=ax)\n",
    "ax.set_title(\"Feature importances using MDI\")\n",
    "ax.set_ylabel(\"Mean decrease in impurity\")\n",
    "fig.tight_layout()\n",
    "plt.savefig(\"Feature_Importance_RD.pdf\", dpi=150)"
   ]
  },
  {
   "cell_type": "code",
   "execution_count": 17,
   "metadata": {},
   "outputs": [],
   "source": [
    "#Using the classifier to predict the blind test dataset\n",
    "y_blind_pred = clf.predict(X_blind_test)"
   ]
  },
  {
   "cell_type": "code",
   "execution_count": 18,
   "metadata": {},
   "outputs": [
    {
     "name": "stdout",
     "output_type": "stream",
     "text": [
      "              precision    recall  f1-score   support\n",
      "\n",
      "           0       0.96      0.94      0.95       195\n",
      "           1       0.91      0.88      0.89       112\n",
      "           2       0.89      0.95      0.92       118\n",
      "\n",
      "    accuracy                           0.93       425\n",
      "   macro avg       0.92      0.92      0.92       425\n",
      "weighted avg       0.93      0.93      0.93       425\n",
      "\n"
     ]
    }
   ],
   "source": [
    "#classification report for the blind test dataset\n",
    "print(classification_report(y_blind_test, y_blind_pred))"
   ]
  },
  {
   "cell_type": "code",
   "execution_count": 19,
   "metadata": {},
   "outputs": [
    {
     "data": {
      "image/png": "[encoded data removed]",
      "text/plain": [
       "<Figure size 432x288 with 2 Axes>"
      ]
     },
     "metadata": {
      "needs_background": "light"
     },
     "output_type": "display_data"
    }
   ],
   "source": [
    "#confusion matrix for the blind test dataset\n",
    "cm_blind = confusion_matrix(y_blind_test, y_blind_pred)\n",
    "cm_blind_display = ConfusionMatrixDisplay(cm_blind).plot(cmap='YlGnBu')\n",
    "plt.savefig(\"ConfusionMatrix_RD_Blind_Test.pdf\", dpi=150)"
   ]
  },
  {
   "cell_type": "code",
   "execution_count": 20,
   "metadata": {},
   "outputs": [],
   "source": [
    "#Using the classifier to predict the Xiao and Cui data\n",
    "y_XC_RD_pred = clf.predict(XC_data)\n",
    "\n",
    "#make a copy of the Xiao and Cui data\n",
    "XC_RD = XC.copy()\n",
    "\n",
    "#add labels as a new column in the XC_RD\n",
    "XC_RD['Label'] = y_XC_RD_pred\n",
    "\n",
    "#Make probs as a three-column dataframe\n",
    "XC_RD_prob = pd.DataFrame(clf.predict_proba(XC_data), columns = ['0', '1', '2'])\n",
    "\n",
    "#Combine the XC_RD dataframe and the prob dataframe\n",
    "XC_RD = pd.concat([XC_RD, XC_RD_prob], axis=1)\n",
    "\n",
    "XC_RD.to_csv(\"XC_RD.csv\")"
   ]
  },
  {
   "cell_type": "markdown",
   "metadata": {},
   "source": [
    "### XGBoost"
   ]
  },
  {
   "cell_type": "code",
   "execution_count": 21,
   "metadata": {},
   "outputs": [],
   "source": [
    "#change X_train to a DMatrix object\n",
    "dtrain = xgb.DMatrix(X_train, label=y_train, feature_names=feature_names)"
   ]
  },
  {
   "cell_type": "code",
   "execution_count": null,
   "metadata": {},
   "outputs": [],
   "source": [
    "#set the initial parameters and check the optimum number of trees\n",
    "params = {'eta': 0.1,\n",
    "'max_depth': 5,\n",
    "'min_child_weight': 1,\n",
    "'subsample': 0.8,\n",
    "'colsample_bytree': 0.8,\n",
    "'objective': 'multi:softprob',\n",
    "'num_class': 3\n",
    "}\n",
    "xgb.cv(params, dtrain, num_boost_round=1000, early_stopping_rounds=100, metrics='auc', seed=0)"
   ]
  },
  {
   "cell_type": "code",
   "execution_count": null,
   "metadata": {},
   "outputs": [],
   "source": [
    "#Tune max_depth and min_child_weight\n",
    "param_test1 = {\n",
    " 'max_depth': range(3,10,2),\n",
    " 'min_child_weight': range(1,6,2)\n",
    "}\n",
    "gsearcg1 = GridSearchCV(xgb.XGBClassifier(learning_rate =0.1, n_estimators=492, max_depth=5,\n",
    " min_child_weight=1, gamma=0, subsample=0.8, colsample_bytree=0.8,\n",
    " objective= 'multi:softprob', num_class=3, seed=0), param_grid = param_test1, scoring='f1_macro')\n",
    "gsearcg1.fit(X_train, y_train)\n",
    "gsearcg1.best_params_, gsearcg1.best_score_"
   ]
  },
  {
   "cell_type": "code",
   "execution_count": null,
   "metadata": {},
   "outputs": [],
   "source": [
    "#Fine tuning max_depth and min_child_weight\n",
    "param_test2 = {\n",
    " 'max_depth': [1,2,3,4],\n",
    " 'min_child_weight': [0.5,1,1.5]\n",
    "}\n",
    "gsearcg2 = GridSearchCV(xgb.XGBClassifier(learning_rate =0.1, n_estimators=492, max_depth=5,\n",
    " min_child_weight=1, gamma=0, subsample=0.8, colsample_bytree=0.8,\n",
    " objective= 'multi:softprob', num_class=3, seed=0), param_grid = param_test2, scoring='f1_macro')\n",
    "gsearcg2.fit(X_train, y_train)\n",
    "gsearcg2.best_params_, gsearcg2.best_score_"
   ]
  },
  {
   "cell_type": "code",
   "execution_count": null,
   "metadata": {},
   "outputs": [],
   "source": [
    "#Tune gamma\n",
    "param_test3 = {\n",
    " 'gamma': np.arange(0,0.5,0.1)\n",
    "}\n",
    "gsearcg3 = GridSearchCV(xgb.XGBClassifier(learning_rate =0.1, n_estimators=492, max_depth=2,\n",
    " min_child_weight=0.5, gamma=0, subsample=0.8, colsample_bytree=0.8,\n",
    " objective= 'multi:softprob', num_class=3, seed=0), param_grid = param_test3, scoring='f1_macro')\n",
    "gsearcg3.fit(X_train, y_train)\n",
    "gsearcg3.best_params_, gsearcg3.best_score_"
   ]
  },
  {
   "cell_type": "code",
   "execution_count": null,
   "metadata": {},
   "outputs": [],
   "source": [
    "#Recalibrate the number of boosting rounds\n",
    "params = {'eta': 0.1,\n",
    "'max_depth': 2,\n",
    "'min_child_weight': 0.5,\n",
    "'gamma': 0.3,\n",
    "'subsample': 0.8,\n",
    "'colsample_bytree': 0.8,\n",
    "'objective': 'multi:softprob',\n",
    "'num_class': 3\n",
    "}\n",
    "xgb.cv(params, dtrain, num_boost_round=1000, early_stopping_rounds=100, metrics='auc', seed=0)"
   ]
  },
  {
   "cell_type": "code",
   "execution_count": null,
   "metadata": {},
   "outputs": [],
   "source": [
    "#Tune subsample and colsample_bytree\n",
    "param_test4 = {\n",
    " 'subsample': np.arange(0.5,1,0.05),\n",
    " 'colsample_bytree': np.arange(0.5,1,0.05)\n",
    "}\n",
    "gsearcg4 = GridSearchCV(xgb.XGBClassifier(learning_rate =0.1, n_estimators=261, max_depth=2,\n",
    " min_child_weight=0.5, gamma=0.3, subsample=0.8, colsample_bytree=0.8,\n",
    " objective= 'multi:softprob', num_class=3, seed=0), param_grid = param_test4, scoring='f1_macro')\n",
    "gsearcg4.fit(X_train, y_train)\n",
    "gsearcg4.best_params_, gsearcg4.best_score_"
   ]
  },
  {
   "cell_type": "code",
   "execution_count": 22,
   "metadata": {},
   "outputs": [
    {
     "name": "stdout",
     "output_type": "stream",
     "text": [
      "              precision    recall  f1-score   support\n",
      "\n",
      "           0       0.91      0.95      0.93       688\n",
      "           1       0.95      0.94      0.94       993\n",
      "           2       0.93      0.90      0.91       806\n",
      "\n",
      "    accuracy                           0.93      2487\n",
      "   macro avg       0.93      0.93      0.93      2487\n",
      "weighted avg       0.93      0.93      0.93      2487\n",
      "\n"
     ]
    }
   ],
   "source": [
    "#choose learning_rate =0.1, n_estimators=300\n",
    "clf = xgb.XGBClassifier(learning_rate =0.1, n_estimators=300, max_depth=2,\n",
    " min_child_weight=0.5, gamma=0.3, subsample=0.65, colsample_bytree=0.5,\n",
    " objective= 'multi:softprob', num_class=3, seed=0, importance_type = 'gain')\n",
    "clf.fit(X_train, y_train)\n",
    "y_pred = clf.predict(X_test)\n",
    "\n",
    "from sklearn.metrics import classification_report\n",
    "print(classification_report(y_test, y_pred))"
   ]
  },
  {
   "cell_type": "code",
   "execution_count": 23,
   "metadata": {},
   "outputs": [
    {
     "data": {
      "image/png": "[encoded data removed]",
      "text/plain": [
       "<Figure size 432x288 with 1 Axes>"
      ]
     },
     "metadata": {
      "needs_background": "light"
     },
     "output_type": "display_data"
    }
   ],
   "source": [
    "#calculate the importances (gain) of different features\n",
    "importances = clf.feature_importances_\n",
    "\n",
    "clf_importances = pd.Series(importances, index = clf.feature_names_in_)\n",
    "\n",
    "fig, ax = plt.subplots()\n",
    "clf_importances.plot.bar()\n",
    "ax.set_title(\"Feature importances using gain\")\n",
    "ax.set_ylabel(\"Gain\")\n",
    "fig.tight_layout()\n",
    "plt.savefig(\"Feature_Importance_XG.pdf\", dpi=150)"
   ]
  },
  {
   "cell_type": "code",
   "execution_count": 24,
   "metadata": {},
   "outputs": [
    {
     "data": {
      "image/png": "[encoded data removed]",
      "text/plain": [
       "<Figure size 432x288 with 2 Axes>"
      ]
     },
     "metadata": {
      "needs_background": "light"
     },
     "output_type": "display_data"
    }
   ],
   "source": [
    "#confusion matrix for the test dataset\n",
    "cm_blind = confusion_matrix(y_test, y_pred)\n",
    "cm_blind_display = ConfusionMatrixDisplay(cm_blind).plot(cmap='YlGnBu')\n",
    "plt.savefig(\"ConfusionMatrix_XG_Test.pdf\", dpi=150)"
   ]
  },
  {
   "cell_type": "code",
   "execution_count": 25,
   "metadata": {},
   "outputs": [
    {
     "data": {
      "image/png": "[encoded data removed]",
      "text/plain": [
       "<Figure size 432x288 with 2 Axes>"
      ]
     },
     "metadata": {
      "needs_background": "light"
     },
     "output_type": "display_data"
    }
   ],
   "source": [
    "#Using the classifier to predict the blind test dataset\n",
    "y_blind_pred = clf.predict(X_blind_test)\n",
    "#confusion matrix for the blind test dataset\n",
    "cm_blind = confusion_matrix(y_blind_test, y_blind_pred)\n",
    "cm_blind_display = ConfusionMatrixDisplay(cm_blind).plot(cmap='YlGnBu')\n",
    "plt.savefig(\"ConfusionMatrix_XG_Blind_Test.pdf\", dpi=150)"
   ]
  },
  {
   "cell_type": "code",
   "execution_count": 26,
   "metadata": {},
   "outputs": [
    {
     "name": "stdout",
     "output_type": "stream",
     "text": [
      "              precision    recall  f1-score   support\n",
      "\n",
      "           0       0.98      0.93      0.95       195\n",
      "           1       0.89      0.91      0.90       112\n",
      "           2       0.88      0.94      0.91       118\n",
      "\n",
      "    accuracy                           0.93       425\n",
      "   macro avg       0.92      0.93      0.92       425\n",
      "weighted avg       0.93      0.93      0.93       425\n",
      "\n"
     ]
    }
   ],
   "source": [
    "print(classification_report(y_blind_test, y_blind_pred))"
   ]
  },
  {
   "cell_type": "code",
   "execution_count": 27,
   "metadata": {},
   "outputs": [],
   "source": [
    "#Using the classifier to predict the Xiao and Cui data\n",
    "y_XC_XG_pred = clf.predict(XC_data)\n",
    "\n",
    "#make a copy of the Xiao and Cui data\n",
    "XC_XG = XC.copy()\n",
    "\n",
    "#add labels as a new column in the XC_XG\n",
    "XC_XG['Label'] = y_XC_XG_pred\n",
    "\n",
    "#Make probs as a three-column dataframe\n",
    "XC_XG_prob = pd.DataFrame(clf.predict_proba(XC_data), columns = ['0', '1', '2'])\n",
    "\n",
    "#Combine the XC_RD dataframe and the prob dataframe\n",
    "XC_XG = pd.concat([XC_XG, XC_XG_prob], axis=1)\n",
    "\n",
    "XC_XG.to_csv(\"XC_XG.csv\")"
   ]
  }
 ],
 "metadata": {
  "kernelspec": {
   "display_name": "Python 3.10.4 ('ml_env')",
   "language": "python",
   "name": "python3"
  },
  "language_info": {
   "codemirror_mode": {
    "name": "ipython",
    "version": 3
   },
   "file_extension": ".py",
   "mimetype": "text/x-python",
   "name": "python",
   "nbconvert_exporter": "python",
   "pygments_lexer": "ipython3",
   "version": "3.10.4"
  },
  "orig_nbformat": 4,
  "vscode": {
   "interpreter": {
    "hash": "2185c18552ee4500c70a70462a17fb1a29a022bf9917742c5ad8de8c439e519e"
   }
  }
 },
 "nbformat": 4,
 "nbformat_minor": 2
}
